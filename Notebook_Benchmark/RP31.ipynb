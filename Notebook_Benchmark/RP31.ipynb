{
 "cells": [
  {
   "cell_type": "markdown",
   "metadata": {},
   "source": [
    "# Problème RP31"
   ]
  },
  {
   "cell_type": "code",
   "execution_count": 1,
   "metadata": {},
   "outputs": [],
   "source": [
    "import openturns as ot\n",
    "import numpy as np"
   ]
  },
  {
   "cell_type": "markdown",
   "metadata": {},
   "source": [
    "## Variables d'entrée"
   ]
  },
  {
   "cell_type": "code",
   "execution_count": 2,
   "metadata": {},
   "outputs": [],
   "source": [
    "X1 = ot.Normal(0 , 1)\n",
    "X2 = ot.Normal(0 , 1)"
   ]
  },
  {
   "cell_type": "code",
   "execution_count": 3,
   "metadata": {},
   "outputs": [],
   "source": [
    "myDistribution=ot.ComposedDistribution([X1, X2])"
   ]
  },
  {
   "cell_type": "markdown",
   "metadata": {},
   "source": [
    "## Fonction de performance"
   ]
  },
  {
   "cell_type": "code",
   "execution_count": 8,
   "metadata": {},
   "outputs": [],
   "source": [
    "myFunction = ot.SymbolicFunction([\"x1\", \"x2\"], [\" 2 − x2 + 256 * x1^4 \"])"
   ]
  },
  {
   "cell_type": "code",
   "execution_count": 9,
   "metadata": {},
   "outputs": [],
   "source": [
    "vect = ot.RandomVector(myDistribution)\n",
    "output = ot.CompositeRandomVector(myFunction, vect)\n",
    "event = ot.ThresholdEvent(output, ot.Less(), 0)"
   ]
  },
  {
   "cell_type": "code",
   "execution_count": 10,
   "metadata": {},
   "outputs": [],
   "source": [
    "mu = myDistribution.getMean()"
   ]
  },
  {
   "cell_type": "markdown",
   "metadata": {},
   "source": [
    "## Calcul de la probabilité de défaillance par la méthode de FORM "
   ]
  },
  {
   "cell_type": "code",
   "execution_count": 11,
   "metadata": {},
   "outputs": [
    {
     "ename": "TypeError",
     "evalue": "",
     "output_type": "error",
     "traceback": [
      "\u001b[1;31m---------------------------------------------------------------------------\u001b[0m",
      "\u001b[1;31mTypeError\u001b[0m                                 Traceback (most recent call last)",
      "\u001b[1;32m<ipython-input-11-70f12c38631a>\u001b[0m in \u001b[0;36m<module>\u001b[1;34m\u001b[0m\n\u001b[0;32m      1\u001b[0m \u001b[0msolver\u001b[0m \u001b[1;33m=\u001b[0m \u001b[0mot\u001b[0m\u001b[1;33m.\u001b[0m\u001b[0mCobyla\u001b[0m\u001b[1;33m(\u001b[0m\u001b[1;33m)\u001b[0m\u001b[1;33m\u001b[0m\u001b[1;33m\u001b[0m\u001b[0m\n\u001b[0;32m      2\u001b[0m \u001b[0malgo\u001b[0m \u001b[1;33m=\u001b[0m \u001b[0mot\u001b[0m\u001b[1;33m.\u001b[0m\u001b[0mFORM\u001b[0m\u001b[1;33m(\u001b[0m\u001b[0msolver\u001b[0m\u001b[1;33m,\u001b[0m \u001b[0mevent\u001b[0m\u001b[1;33m,\u001b[0m\u001b[0mmu\u001b[0m\u001b[1;33m)\u001b[0m\u001b[1;33m\u001b[0m\u001b[1;33m\u001b[0m\u001b[0m\n\u001b[1;32m----> 3\u001b[1;33m \u001b[0malgo\u001b[0m\u001b[1;33m.\u001b[0m\u001b[0mrun\u001b[0m\u001b[1;33m(\u001b[0m\u001b[1;33m)\u001b[0m\u001b[1;33m\u001b[0m\u001b[1;33m\u001b[0m\u001b[0m\n\u001b[0m\u001b[0;32m      4\u001b[0m \u001b[0mresult\u001b[0m \u001b[1;33m=\u001b[0m \u001b[0malgo\u001b[0m\u001b[1;33m.\u001b[0m\u001b[0mgetResult\u001b[0m\u001b[1;33m(\u001b[0m\u001b[1;33m)\u001b[0m\u001b[1;33m\u001b[0m\u001b[1;33m\u001b[0m\u001b[0m\n",
      "\u001b[1;32mC:\\ProgramData\\Anaconda3\\lib\\site-packages\\openturns\\analytical.py\u001b[0m in \u001b[0;36mrun\u001b[1;34m(self)\u001b[0m\n\u001b[0;32m    922\u001b[0m         \u001b[0mthe\u001b[0m \u001b[0mstructure\u001b[0m \u001b[0mresult\u001b[0m \u001b[0mwhich\u001b[0m \u001b[1;32mis\u001b[0m \u001b[0maccessible\u001b[0m \u001b[1;32mwith\u001b[0m \u001b[0mthe\u001b[0m \u001b[0mmethod\u001b[0m \u001b[1;33m:\u001b[0m\u001b[0mmeth\u001b[0m\u001b[1;33m:\u001b[0m\u001b[0;31m`\u001b[0m\u001b[0mgetResult\u001b[0m\u001b[0;31m`\u001b[0m\u001b[1;33m.\u001b[0m\u001b[1;33m\u001b[0m\u001b[1;33m\u001b[0m\u001b[0m\n\u001b[0;32m    923\u001b[0m         \"\"\"\n\u001b[1;32m--> 924\u001b[1;33m         \u001b[1;32mreturn\u001b[0m \u001b[0m_analytical\u001b[0m\u001b[1;33m.\u001b[0m\u001b[0mFORM_run\u001b[0m\u001b[1;33m(\u001b[0m\u001b[0mself\u001b[0m\u001b[1;33m)\u001b[0m\u001b[1;33m\u001b[0m\u001b[1;33m\u001b[0m\u001b[0m\n\u001b[0m\u001b[0;32m    925\u001b[0m \u001b[1;33m\u001b[0m\u001b[0m\n\u001b[0;32m    926\u001b[0m     \u001b[1;32mdef\u001b[0m \u001b[0m__init__\u001b[0m\u001b[1;33m(\u001b[0m\u001b[0mself\u001b[0m\u001b[1;33m,\u001b[0m \u001b[1;33m*\u001b[0m\u001b[0margs\u001b[0m\u001b[1;33m)\u001b[0m\u001b[1;33m:\u001b[0m\u001b[1;33m\u001b[0m\u001b[1;33m\u001b[0m\u001b[0m\n",
      "\u001b[1;31mTypeError\u001b[0m: "
     ]
    }
   ],
   "source": [
    "solver = ot.Cobyla()\n",
    "algo = ot.FORM(solver, event,mu)\n",
    "algo.run()\n",
    "result = algo.getResult()"
   ]
  },
  {
   "cell_type": "code",
   "execution_count": null,
   "metadata": {},
   "outputs": [],
   "source": [
    "result.getEventProbability()"
   ]
  },
  {
   "cell_type": "markdown",
   "metadata": {},
   "source": [
    "## Calcul de la probabilité de défaillance par la méthode de SORM "
   ]
  },
  {
   "cell_type": "code",
   "execution_count": null,
   "metadata": {},
   "outputs": [],
   "source": [
    "solver = ot.Cobyla()\n",
    "algo = ot.SORM(solver, event,mu)\n",
    "algo.run()\n",
    "result = algo.getResult()"
   ]
  },
  {
   "cell_type": "code",
   "execution_count": null,
   "metadata": {},
   "outputs": [],
   "source": [
    "result.getEventProbabilityBreitung()"
   ]
  },
  {
   "cell_type": "markdown",
   "metadata": {},
   "source": [
    "## Calcul de la probabilité de défaillance par la méthode du Tirage d'importance "
   ]
  },
  {
   "cell_type": "code",
   "execution_count": null,
   "metadata": {},
   "outputs": [],
   "source": [
    "standardSpaceDesignPoint = result.getStandardSpaceDesignPoint()\n",
    "myImportance = ot.Normal(standardSpaceDesignPoint, [1.0] * 2, ot.CorrelationMatrix(2))\n",
    "experiment = ot.ImportanceSamplingExperiment(myImportance)\n",
    "algo = ot.ProbabilitySimulationAlgorithm(ot.StandardEvent(event), experiment)\n",
    "algo.setMaximumCoefficientOfVariation(0.1)\n",
    "algo.setMaximumOuterSampling(40000)\n",
    "algo.setConvergenceStrategy(ot.Full())\n",
    "algo.run()"
   ]
  },
  {
   "cell_type": "code",
   "execution_count": null,
   "metadata": {},
   "outputs": [],
   "source": [
    "result = algo.getResult()\n",
    "result.getProbabilityEstimate()"
   ]
  },
  {
   "cell_type": "markdown",
   "metadata": {},
   "source": [
    "## Calcul de la probabilité de défaillance par la méthode de Monte Carlo"
   ]
  },
  {
   "cell_type": "code",
   "execution_count": null,
   "metadata": {},
   "outputs": [],
   "source": [
    "algoProb = ot.ProbabilitySimulationAlgorithm(event)\n",
    "algoProb.setMaximumOuterSampling(1000)\n",
    "algoProb.setMaximumCoefficientOfVariation(0.01)\n",
    "algoProb.run()"
   ]
  },
  {
   "cell_type": "code",
   "execution_count": null,
   "metadata": {},
   "outputs": [],
   "source": [
    "resultAlgo = algoProb.getResult()\n",
    "pf = resultAlgo.getProbabilityEstimate()\n",
    "pf"
   ]
  },
  {
   "cell_type": "markdown",
   "metadata": {},
   "source": [
    "## Les courbes iso-probables"
   ]
  },
  {
   "cell_type": "code",
   "execution_count": null,
   "metadata": {},
   "outputs": [],
   "source": [
    "alphaMin = 0.01\n",
    "alphaMax = 1 - alphaMin\n",
    "lowerBound = ot.Point([X1.computeQuantile(alphaMin)[0], X2.computeQuantile(alphaMin)[0]])\n",
    "upperBound = ot.Point([X1.computeQuantile(alphaMax)[0], X2.computeQuantile(alphaMax)[0]])\n"
   ]
  },
  {
   "cell_type": "code",
   "execution_count": null,
   "metadata": {},
   "outputs": [],
   "source": [
    "nbPoints = [100, 100]\n",
    "figure = myFunction.draw(lowerBound, upperBound, nbPoints)\n",
    "figure.setTitle(\" Les courbes iso-probables\")\n",
    "figure"
   ]
  },
  {
   "cell_type": "markdown",
   "metadata": {},
   "source": [
    "## Afiichage Points défaillants / fiables"
   ]
  },
  {
   "cell_type": "code",
   "execution_count": null,
   "metadata": {},
   "outputs": [],
   "source": [
    "sampleSize = 5000\n",
    "sampleInput = myDistribution.getSample(sampleSize)\n",
    "Y = myFunction(sampleInput)\n",
    "Yarray = np.array(Y)\n",
    "indices = Yarray > 0.0\n",
    "indices = indices.ravel()\n",
    "Xarray = np.array(sampleInput)\n",
    "XPositif = Xarray[indices, :]\n",
    "autresIndices = [not indices[i] for i in range(len(indices))]\n",
    "XNegatifs = Xarray[autresIndices, :]\n"
   ]
  },
  {
   "cell_type": "code",
   "execution_count": null,
   "metadata": {},
   "outputs": [],
   "source": [
    "myGraph = ot.Graph('Points défaillants / fiables', 'X1', 'X2', True, '')\n",
    "myCloud = ot.Cloud(ot.Sample(XPositif), 'green', 'fsquare', '>0')\n",
    "myGraph.add(myCloud)\n",
    "myCloud = ot.Cloud(ot.Sample(XNegatifs), 'red', 'fsquare', '<0')\n",
    "myGraph.add(myCloud)\n",
    "myGraph.setLegendPosition(\"topright\")\n",
    "myGraph"
   ]
  },
  {
   "cell_type": "code",
   "execution_count": null,
   "metadata": {},
   "outputs": [],
   "source": [
    "bounds = ot.Interval(lowerBound, upperBound)\n",
    "bounds"
   ]
  },
  {
   "cell_type": "code",
   "execution_count": null,
   "metadata": {},
   "outputs": [],
   "source": [
    "nX = 100\n",
    "nY = 100\n",
    "boxExperiment = ot.Box([nX, nY], bounds)\n",
    "#grille régulier \n",
    "inputSample = boxExperiment.generate()\n",
    "outputSample = myFunction(inputSample)"
   ]
  },
  {
   "cell_type": "code",
   "execution_count": null,
   "metadata": {},
   "outputs": [],
   "source": [
    "def linearSample(xmin, xmax, npoints):\n",
    "    '''Returns a sample created from a regular grid\n",
    "    from xmin to xmax with npoints points.'''\n",
    "    step = (xmax-xmin)/(npoints-1)\n",
    "    rg = ot.RegularGrid(xmin, step, npoints)\n",
    "    vertices = rg.getVertices()\n",
    "    return vertices"
   ]
  },
  {
   "cell_type": "markdown",
   "metadata": {},
   "source": [
    "## Surface d'état limite"
   ]
  },
  {
   "cell_type": "code",
   "execution_count": null,
   "metadata": {},
   "outputs": [],
   "source": [
    "# Create an empty graph\n",
    "myGraph = ot.Graph('Limit state surface', 'X1', 'X2', True, '')\n",
    "# Create the contour\n",
    "levels = ot.Point([0.0])\n",
    "labels = [\"0.0\"]\n",
    "drawLabels = True\n",
    "x = linearSample(lowerBound[0], upperBound[0], nX + 2)\n",
    "y = linearSample(lowerBound[1], upperBound[1], nY + 2)\n",
    "myContour = ot.Contour(x, y, outputSample, levels, labels, drawLabels)\n",
    "myContour.setColor('black')\n",
    "myGraph.add(myContour)\n",
    "\n",
    "myGraph"
   ]
  },
  {
   "cell_type": "code",
   "execution_count": null,
   "metadata": {},
   "outputs": [],
   "source": [
    "myGraph = ot.Graph('Points défaillants / fiables', 'X1', 'X2', True, '')\n",
    "myCloud = ot.Cloud(ot.Sample(XPositif), 'green', 'fsquare', '>0')\n",
    "myGraph.add(myCloud)\n",
    "myCloud = ot.Cloud(ot.Sample(XNegatifs), 'red', 'fsquare', '<0')\n",
    "myGraph.add(myCloud)\n",
    "myGraph.setLegendPosition(\"topright\")\n",
    "myGraph.add(myContour)\n",
    "myGraph"
   ]
  }
 ],
 "metadata": {
  "kernelspec": {
   "display_name": "Python 3",
   "language": "python",
   "name": "python3"
  },
  "language_info": {
   "codemirror_mode": {
    "name": "ipython",
    "version": 3
   },
   "file_extension": ".py",
   "mimetype": "text/x-python",
   "name": "python",
   "nbconvert_exporter": "python",
   "pygments_lexer": "ipython3",
   "version": "3.7.4"
  }
 },
 "nbformat": 4,
 "nbformat_minor": 2
}
